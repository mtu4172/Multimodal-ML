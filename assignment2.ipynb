{
 "cells": [
  {
   "cell_type": "code",
   "execution_count": 58,
   "metadata": {
    "collapsed": true
   },
   "outputs": [
    {
     "data": {
      "text/plain": "<Figure size 640x480 with 1 Axes>",
      "image/png": "[encoded data removed]"
     },
     "metadata": {},
     "output_type": "display_data"
    },
    {
     "name": "stdout",
     "output_type": "stream",
     "text": [
      "1    182\n",
      "0    177\n",
      "Name: Sentiment, dtype: int64\n",
      "Size of dataset: 359\n"
     ]
    }
   ],
   "source": [
    "import pandas as pd\n",
    "import numpy as np\n",
    "import matplotlib.pyplot as plt\n",
    "\n",
    "df = pd.read_csv(\"test.csv\")\n",
    "df.dropna(inplace=True)\n",
    "\n",
    "# plot sentiment distribution\n",
    "val, count = np.unique(df['Sentiment'], return_counts=True)\n",
    "plt.bar(val, count)\n",
    "plt.xticks(np.arange(0, 2, 1))\n",
    "plt.xlabel('Sentiment')\n",
    "plt.ylabel('Frequency')\n",
    "plt.title('Sentiment Distribution')\n",
    "plt.show()\n",
    "print(df['Sentiment'].value_counts())\n",
    "\n",
    "\n",
    "# display size\n",
    "print('Size of dataset:', df.shape[0])"
   ]
  },
  {
   "cell_type": "code",
   "execution_count": 59,
   "outputs": [
    {
     "name": "stderr",
     "output_type": "stream",
     "text": [
      "[nltk_data] Downloading package stopwords to\n",
      "[nltk_data]     C:\\Users\\micha\\AppData\\Roaming\\nltk_data...\n",
      "[nltk_data]   Package stopwords is already up-to-date!\n",
      "[nltk_data] Downloading package punkt to\n",
      "[nltk_data]     C:\\Users\\micha\\AppData\\Roaming\\nltk_data...\n",
      "[nltk_data]   Package punkt is already up-to-date!\n"
     ]
    }
   ],
   "source": [
    "import re\n",
    "import nltk\n",
    "from nltk.corpus import stopwords\n",
    "from nltk.tokenize import word_tokenize\n",
    "\n",
    "nltk.download('stopwords')\n",
    "nltk.download('punkt')\n",
    "stop = set(stopwords.words('english'))\n",
    "\n",
    "def clean(text):\n",
    "    res = []\n",
    "    text = text.lower() # to lowercase\n",
    "    text = re.sub(r\"@\\S+\", \"\", text) # remove mentions\n",
    "    text = re.sub(\"http[s]?\\://\\S+\",\"\",text) # remove links\n",
    "    text = re.sub(r\"[0-9]\", \"\", text) # remove numbers\n",
    "    text = re.sub(r\"[$&+,:;=?@#|'<>.^*()%!-]\", \"\", text) # remove special characters\n",
    "    # res = word_tokenize(text)\n",
    "    # res = [word for word in tokens if not word in stop] # remove stopwords\n",
    "    # return res\n",
    "    return text\n",
    "\n",
    "df['clean_text'] = df['Text'].apply(lambda t: clean(t))"
   ],
   "metadata": {
    "collapsed": false
   }
  },
  {
   "cell_type": "code",
   "execution_count": 60,
   "outputs": [
    {
     "name": "stdout",
     "output_type": "stream",
     "text": [
      "Bag of Words\n",
      "               precision    recall  f1-score   support\n",
      "\n",
      "           0       0.95      0.95      0.95       177\n",
      "           1       0.95      0.95      0.95       182\n",
      "\n",
      "    accuracy                           0.95       359\n",
      "   macro avg       0.95      0.95      0.95       359\n",
      "weighted avg       0.95      0.95      0.95       359\n",
      "\n",
      "Tfidf\n",
      "               precision    recall  f1-score   support\n",
      "\n",
      "           0       0.88      0.97      0.92       160\n",
      "           1       0.97      0.89      0.93       199\n",
      "\n",
      "    accuracy                           0.92       359\n",
      "   macro avg       0.92      0.93      0.92       359\n",
      "weighted avg       0.93      0.92      0.93       359\n",
      "\n"
     ]
    }
   ],
   "source": [
    "from sklearn.metrics import classification_report\n",
    "from sklearn.feature_extraction.text import CountVectorizer, TfidfVectorizer\n",
    "from sklearn.model_selection import train_test_split\n",
    "from sklearn.linear_model import LogisticRegression\n",
    "\n",
    "# Bag of Words\n",
    "bag_of_words = CountVectorizer()\n",
    "x = bag_of_words.fit_transform(df['clean_text'])\n",
    "y = df['Sentiment'].values\n",
    "X_train, X_test, Y_train, Y_test= train_test_split(x, y)\n",
    "lr = LogisticRegression()\n",
    "lr.fit(X_train, Y_train)\n",
    "\n",
    "predicted = lr.predict(x)\n",
    "print('Bag of Words\\n', classification_report(predicted, y))\n",
    "\n",
    "# TF-IDF\n",
    "tf_idf = TfidfVectorizer()\n",
    "x = tf_idf.fit_transform(df['clean_text'])\n",
    "y = df['Sentiment'].values\n",
    "X_train, X_test, Y_train, Y_test= train_test_split(x, y)\n",
    "lr = LogisticRegression()\n",
    "lr.fit(X_train, Y_train)\n",
    "\n",
    "predicted = lr.predict(x)\n",
    "print('TF-IDF\\n', classification_report(predicted, y))"
   ],
   "metadata": {
    "collapsed": false
   }
  },
  {
   "cell_type": "code",
   "execution_count": 60,
   "outputs": [],
   "source": [],
   "metadata": {
    "collapsed": false
   }
  }
 ],
 "metadata": {
  "kernelspec": {
   "display_name": "Python 3",
   "language": "python",
   "name": "python3"
  },
  "language_info": {
   "codemirror_mode": {
    "name": "ipython",
    "version": 2
   },
   "file_extension": ".py",
   "mimetype": "text/x-python",
   "name": "python",
   "nbconvert_exporter": "python",
   "pygments_lexer": "ipython2",
   "version": "2.7.6"
  }
 },
 "nbformat": 4,
 "nbformat_minor": 0
}
