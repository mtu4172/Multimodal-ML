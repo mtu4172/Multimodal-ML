{
 "cells": [
  {
   "cell_type": "code",
   "execution_count": 16,
   "metadata": {},
   "outputs": [],
   "source": [
    "import numpy as np\n",
    "import matplotlib.pyplot as plt\n",
    "import librosa as lb\n",
    "import os\n",
    "import csv\n",
    "import pandas as pd\n",
    "\n",
    "emotions = ['angry', 'fear', 'happy', 'sad']\n",
    "data_files = [[],[],[],[]]\n",
    "for i, e in enumerate(emotions):\n",
    "    path = './data_folder/' + e\n",
    "    for root, dirs, files in os.walk(path):\n",
    "        for file in files:\n",
    "            data_files[i].append(root+'/'+file)\n",
    "\n",
    "with open('annotated.csv', 'w', newline='') as f:\n",
    "    writer = csv.writer(f)\n",
    "    field = [\"emote\", \"path\"]\n",
    "    dw = csv.DictWriter(f, delimiter=',', fieldnames=field)\n",
    "    dw.writeheader()\n",
    "    for i, e in enumerate(data_files):\n",
    "        for file in e:\n",
    "            row = [emotions[i], file]\n",
    "            writer.writerow(row)"
   ]
  },
  {
   "cell_type": "code",
   "execution_count": 1,
   "metadata": {},
   "outputs": [],
   "source": []
  }
 ],
 "metadata": {
  "kernelspec": {
   "display_name": "Python 3 (ipykernel)",
   "language": "python",
   "name": "python3"
  },
  "language_info": {
   "codemirror_mode": {
    "name": "ipython",
    "version": 3
   },
   "file_extension": ".py",
   "mimetype": "text/x-python",
   "name": "python",
   "nbconvert_exporter": "python",
   "pygments_lexer": "ipython3",
   "version": "3.9.13"
  }
 },
 "nbformat": 4,
 "nbformat_minor": 1
}
