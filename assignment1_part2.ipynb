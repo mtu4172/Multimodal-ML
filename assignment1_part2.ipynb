{
 "cells": [
  {
   "cell_type": "markdown",
   "metadata": {},
   "source": [
    "Train a Regression model in which: the independent variables (inputs) are\n",
    "“ASR_Error,” “IntentError,” “Duration,” “Gender,” and “Purchase”; the dependent\n",
    "variable (output) is “SUS.,"
   ]
  },
  {
   "cell_type": "code",
   "execution_count": 1,
   "metadata": {
    "collapsed": true
   },
   "outputs": [],
   "source": [
    "import pandas as pd\n",
    "import statsmodels.api as sm\n",
    "\n",
    "df = pd.read_csv('data.csv')\n",
    "x = df[['ASR_Error', 'Intent_Error', 'Duration', 'Gender', 'Purchase']]\n",
    "y = df['SUS']\n",
    "x = sm.add_constant(x)\n",
    "\n",
    "reg = sm.OLS(y, x)\n",
    "res = reg.fit()"
   ]
  },
  {
   "cell_type": "markdown",
   "metadata": {},
   "source": [
    "1. Show the statistical results of your trained regression model."
   ]
  },
  {
   "cell_type": "code",
   "execution_count": 2,
   "metadata": {},
   "outputs": [
    {
     "name": "stdout",
     "output_type": "stream",
     "text": [
      "                            OLS Regression Results                            \n",
      "==============================================================================\n",
      "Dep. Variable:                    SUS   R-squared:                       0.593\n",
      "Model:                            OLS   Adj. R-squared:                  0.571\n",
      "Method:                 Least Squares   F-statistic:                     27.39\n",
      "Date:                Wed, 15 Feb 2023   Prob (F-statistic):           5.25e-17\n",
      "Time:                        23:25:43   Log-Likelihood:                -362.39\n",
      "No. Observations:                 100   AIC:                             736.8\n",
      "Df Residuals:                      94   BIC:                             752.4\n",
      "Df Model:                           5                                         \n",
      "Covariance Type:            nonrobust                                         \n",
      "================================================================================\n",
      "                   coef    std err          t      P>|t|      [0.025      0.975]\n",
      "--------------------------------------------------------------------------------\n",
      "const           93.0282      5.541     16.788      0.000      82.026     104.031\n",
      "ASR_Error       -1.4254      0.401     -3.553      0.001      -2.222      -0.629\n",
      "Intent_Error    -2.0092      0.439     -4.572      0.000      -2.882      -1.137\n",
      "Duration        -0.0002      0.010     -0.025      0.980      -0.020       0.019\n",
      "Gender           0.8367      1.971      0.425      0.672      -3.076       4.749\n",
      "Purchase         1.3412      3.676      0.365      0.716      -5.958       8.641\n",
      "==============================================================================\n",
      "Omnibus:                        6.969   Durbin-Watson:                   2.023\n",
      "Prob(Omnibus):                  0.031   Jarque-Bera (JB):                8.115\n",
      "Skew:                          -0.378   Prob(JB):                       0.0173\n",
      "Kurtosis:                       4.173   Cond. No.                     1.27e+03\n",
      "==============================================================================\n",
      "\n",
      "Notes:\n",
      "[1] Standard Errors assume that the covariance matrix of the errors is correctly specified.\n",
      "[2] The condition number is large, 1.27e+03. This might indicate that there are\n",
      "strong multicollinearity or other numerical problems.\n"
     ]
    }
   ],
   "source": [
    "print(res.summary())"
   ]
  },
  {
   "cell_type": "markdown",
   "metadata": {},
   "source": [
    "2. What features are significant? What features are insignificant?\n",
    "\n",
    "    ASR_Error and Intent_Error are significant; Duration, Gender, and Purchase are insignificant. This could be determined by looking at the p-values returned by the program."
   ]
  },
  {
   "cell_type": "markdown",
   "metadata": {},
   "source": [
    "3. Were the results what you expected? Explain why or why not, for each\n",
    "feature.\n",
    "\n",
    "    I expected there to be similar results, as it makes sense that issues while using Siri (ASR_Error and Intent_Error) would be the biggest negative factor for user experience. It made sense to me that Duration and Gender were not significant, as I did not think they would affect satisfaction. However, I did wrongly assume that Purchase would be more significant, as the failure to successfully complete the task would reduce user satisfaction."
   ]
  },
  {
   "cell_type": "markdown",
   "metadata": {},
   "source": [
    "4. What does the model suggest is the most influential factor on SUS? Explain\n",
    "what tells you this is the most influential factor statistically.\n",
    "\n",
    "    The model suggests that Intent_Error has the biggest influence on SUS. This can be determined by looking at its p-value of 0.000."
   ]
  },
  {
   "cell_type": "markdown",
   "metadata": {},
   "source": [
    "5. What are the potential reasons for these factor(s) being significant predictors\n",
    "of SUS?\n",
    "\n",
    "    Errors made while using this software will always cause user frustration, which reduces the SUS score. In general, an error-free experience will result in high satisfaction, while errors will cause low scores."
   ]
  }
 ],
 "metadata": {
  "kernelspec": {
   "display_name": "Python 3 (ipykernel)",
   "language": "python",
   "name": "python3"
  },
  "language_info": {
   "codemirror_mode": {
    "name": "ipython",
    "version": 3
   },
   "file_extension": ".py",
   "mimetype": "text/x-python",
   "name": "python",
   "nbconvert_exporter": "python",
   "pygments_lexer": "ipython3",
   "version": "3.9.13"
  }
 },
 "nbformat": 4,
 "nbformat_minor": 1
}
