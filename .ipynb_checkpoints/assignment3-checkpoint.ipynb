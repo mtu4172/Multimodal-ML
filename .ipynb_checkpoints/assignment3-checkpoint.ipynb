{
 "cells": [
  {
   "cell_type": "code",
   "execution_count": 4,
   "metadata": {},
   "outputs": [
    {
     "ename": "ModuleNotFoundError",
     "evalue": "No module named 'utils.create_dataset'",
     "output_type": "error",
     "traceback": [
      "\u001b[1;31m---------------------------------------------------------------------------\u001b[0m",
      "\u001b[1;31mModuleNotFoundError\u001b[0m                       Traceback (most recent call last)",
      "\u001b[1;32m~\\AppData\\Local\\Temp\\ipykernel_2208\\1089806135.py\u001b[0m in \u001b[0;36m<module>\u001b[1;34m\u001b[0m\n\u001b[0;32m      4\u001b[0m \u001b[1;32mimport\u001b[0m \u001b[0mos\u001b[0m\u001b[1;33m\u001b[0m\u001b[1;33m\u001b[0m\u001b[0m\n\u001b[0;32m      5\u001b[0m \u001b[1;32mimport\u001b[0m \u001b[0mpandas\u001b[0m \u001b[1;32mas\u001b[0m \u001b[0mpd\u001b[0m\u001b[1;33m\u001b[0m\u001b[1;33m\u001b[0m\u001b[0m\n\u001b[1;32m----> 6\u001b[1;33m \u001b[1;32mfrom\u001b[0m \u001b[0mutils\u001b[0m\u001b[1;33m.\u001b[0m\u001b[0mcreate_dataset\u001b[0m \u001b[1;32mimport\u001b[0m \u001b[0mcreate_annotation_file\u001b[0m\u001b[1;33m\u001b[0m\u001b[1;33m\u001b[0m\u001b[0m\n\u001b[0m\u001b[0;32m      7\u001b[0m \u001b[1;32mfrom\u001b[0m \u001b[0mutils\u001b[0m\u001b[1;33m.\u001b[0m\u001b[0mcreate_dataset\u001b[0m \u001b[1;32mimport\u001b[0m \u001b[0msplit_data\u001b[0m\u001b[1;33m\u001b[0m\u001b[1;33m\u001b[0m\u001b[0m\n\u001b[0;32m      8\u001b[0m \u001b[1;33m\u001b[0m\u001b[0m\n",
      "\u001b[1;31mModuleNotFoundError\u001b[0m: No module named 'utils.create_dataset'"
     ]
    }
   ],
   "source": [
    "import numpy as np\n",
    "import matplotlib.pyplot as plt\n",
    "import librosa as lb\n",
    "import os\n",
    "import pandas as pd\n",
    "from utils.create_dataset import create_annotation_file\n",
    "from utils.create_dataset import split_data\n",
    "\n",
    "\n",
    "fp = \"./../data_folder/\"\n",
    "create_annotation_file(fp)\n",
    "split_data('../dataset/annotations.csv')\n",
    "\n",
    "df = cd.get_annotations('../dataset/annotations.csv')\n",
    "types = df.groupby('type')['filename'].count()\n",
    "types.plot.bar(x='type', y='instances')\n",
    "\n",
    "emotions = ['angry', 'fear', 'happy', 'sad']\n",
    "data_files = [[],[],[],[]]\n",
    "for i, e in enumerate(emotions):\n",
    "    path = './data_folder/' + e\n",
    "    for root, dirs, files in os.walk(path):\n",
    "        for file in files:\n",
    "            data_files[i].append(root+'/'+file)\n",
    "\n",
    "for e in data_files:\n",
    "    for file in e:\n",
    "        y, sr = lb.load(file)\n",
    "\n",
    "plt.figure(1)\n",
    "lb.display.waveshow(y=y, sr=sr)\n",
    "plt.xlabel('Time / second')\n",
    "plt.ylabel('Amplitude')\n",
    "plt.show()"
   ]
  },
  {
   "cell_type": "code",
   "execution_count": null,
   "metadata": {},
   "outputs": [],
   "source": []
  },
  {
   "cell_type": "code",
   "execution_count": null,
   "metadata": {},
   "outputs": [],
   "source": []
  }
 ],
 "metadata": {
  "kernelspec": {
   "display_name": "Python 3 (ipykernel)",
   "language": "python",
   "name": "python3"
  },
  "language_info": {
   "codemirror_mode": {
    "name": "ipython",
    "version": 3
   },
   "file_extension": ".py",
   "mimetype": "text/x-python",
   "name": "python",
   "nbconvert_exporter": "python",
   "pygments_lexer": "ipython3",
   "version": "3.9.13"
  }
 },
 "nbformat": 4,
 "nbformat_minor": 1
}
